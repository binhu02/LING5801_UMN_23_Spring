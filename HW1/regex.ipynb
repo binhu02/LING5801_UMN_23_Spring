{
 "cells": [
  {
   "cell_type": "markdown",
   "id": "38b67855",
   "metadata": {},
   "source": [
    "**Bin Hu's Submission of LING5801 HW1**"
   ]
  },
  {
   "cell_type": "code",
   "execution_count": 1,
   "id": "31a0df41",
   "metadata": {},
   "outputs": [],
   "source": [
    "import re\n",
    "import codecs\n",
    "from pprint import pprint\n",
    "\n",
    "################# FUNCTION DEFINITIONS -- DO NOT EDIT #######################\n",
    "\n",
    "def precision(system,gold):\n",
    "    true_pos = [x for x in system if x in gold]\n",
    "    return len(true_pos)/len(system)\n",
    "\n",
    "def recall(system,gold):\n",
    "    true_pos = [x for x in system if x in gold]\n",
    "    return len(true_pos)/len(gold)\n",
    "\n",
    "def f1(p,r):\n",
    "    return (2 * p * r)/(p + r)\n",
    "\n",
    "def analyze(system,gold):\n",
    "    p = precision(system,gold)\n",
    "    r = recall(system,gold)\n",
    "    f = f1(p,r)\n",
    "    print(\"Precision: %f\\tRecall: %f\\tF1: %f\" % (p,r,f))"
   ]
  },
  {
   "cell_type": "markdown",
   "id": "2830c2c4",
   "metadata": {},
   "source": [
    "### Assignment 1: Information extraction using regular expressions\n",
    "\n",
    "#### Due: February 14, 2023\n",
    "\n",
    "Your task in this assignment is to write a Python regular expressoin that searches a text for expressions formatted as **dates**. \n",
    "\n",
    "This might seem like a straightforward task, but there are many\n",
    "different conventions for formatting dates (e.g., `month-day-year`,\n",
    "`day-month-year` and `year-month-day`) and for each of these\n",
    "conventions there are a number of additional variables to consider\n",
    "(what is the separator? is the month given numerically? is the month\n",
    "name abbreviated? etc.).  It might also be the case that the text mentions just year, a span of years, or refers somehow to a parituclar decatge.  \n",
    "\n",
    "We have deliberately obfuscated the\n",
    "document that you will search so that there is no one consistent\n",
    "format for date expressions.  This is not an unrealistic\n",
    "situation. For example, if we were processing a large collection of\n",
    "documents, it is entirely plausible that different documents adopt\n",
    "different conventions for date expressions.  Therefore your regular expression\n",
    "needs to match as many of these patterns as possible without\n",
    "mistakenly matching non-date expressions.\n",
    "\n",
    "The file `DevList.txt`, the \"gold standard\", contains the full list of date expressions that your regular expression should match.  The code below reads the dates from the gold standard file into the list `gold_dates`.   "
   ]
  },
  {
   "cell_type": "code",
   "execution_count": 2,
   "id": "a2d11e8b",
   "metadata": {},
   "outputs": [],
   "source": [
    "gold_dates = [date.strip() for date in open(\"DevList.txt\", \"r\", encoding='utf-8').readlines() if date.strip()]"
   ]
  },
  {
   "cell_type": "markdown",
   "id": "eb67cb08",
   "metadata": {},
   "source": [
    "You can inspect the list of date expressions that your regular expression needs to match by running the code cell below.  "
   ]
  },
  {
   "cell_type": "code",
   "execution_count": 3,
   "id": "b071cbd1",
   "metadata": {},
   "outputs": [
    {
     "name": "stdout",
     "output_type": "stream",
     "text": [
      "[\"1800's\",\n",
      " \"1900's\",\n",
      " '1854',\n",
      " '1854',\n",
      " '1854',\n",
      " '1854',\n",
      " '1854',\n",
      " '2019',\n",
      " 'June 4, 2019',\n",
      " '1851',\n",
      " 'May 11, 1858',\n",
      " '1851-1900',\n",
      " '1851',\n",
      " '1858',\n",
      " '1861',\n",
      " '7/2/1862',\n",
      " '1868',\n",
      " 'May 1873',\n",
      " 'May of 1875',\n",
      " 'Sep 1877',\n",
      " 'April 1st, 1880',\n",
      " '1881',\n",
      " 'Mar, 2, 1887',\n",
      " '1888',\n",
      " '2nd of Nov 1898',\n",
      " '05. 01.1900',\n",
      " \"1900's\",\n",
      " '1901',\n",
      " '1960',\n",
      " '30th of January, 1904',\n",
      " '24th of Sep 1904',\n",
      " '1907',\n",
      " '1908',\n",
      " 'Sep 1909',\n",
      " 'September 1949',\n",
      " '1909',\n",
      " 'Feb 14']\n"
     ]
    }
   ],
   "source": [
    "pprint(gold_dates)"
   ]
  },
  {
   "cell_type": "markdown",
   "id": "056b7240",
   "metadata": {},
   "source": [
    "The following code reads a text document `DevText.txt` into the string `doc`.  This is the object that your regular expression will search for date expressions."
   ]
  },
  {
   "cell_type": "code",
   "execution_count": 4,
   "id": "6e679f78",
   "metadata": {},
   "outputs": [],
   "source": [
    "doc = codecs.open(\"DevText.txt\", encoding='utf-8').read()\n",
    "#doc = open(\"DevText.txt\").read()"
   ]
  },
  {
   "cell_type": "code",
   "execution_count": 5,
   "id": "9b3441cd",
   "metadata": {
    "scrolled": false
   },
   "outputs": [
    {
     "name": "stdout",
     "output_type": "stream",
     "text": [
      "This document lists a history of the University of Minnesota since establishment in the 1800's until the 1900's. Before the chronological laying out of the significant milestones of the university, a land acknowledgement of one of the campuses sets a backdrop for the history of the land on which the campuses were established. \r\n",
      "The University of Minnesota Duluth's Land Acknowledgment\r\n",
      "\r\n",
      "We collectively acknowledge that the University of Minnesota Duluth is located on the traditional, ancestral, and contemporary lands of Indigenous people. The University resides on land that was cared for and called home by the Ojibwe people, before them the Dakota and Northern Cheyenne people, and other Native peoples from time immemorial. Ceded by the Ojibwe in an 1854 treaty, this land holds great historical, spiritual, and personal significance for its original stewards, the Native nations and peoples of this region. We recognize and continually support and advocate for the sovereignty of the Native nations in this territory and beyond. By offering this land acknowledgment, we affirm tribal sovereignty and will work to hold the University of Minnesota Duluth accountable to American Indian peoples and nations.\r\n",
      "Context\r\n",
      "\r\n",
      "A Land Acknowledgment is a formal recognition of the unique and enduring relationship that exists between American Indians and their territories. This acknowledgment is an opportunity for the entire University community to increase their awareness of the history of the land on which UMD resides.\r\n",
      "\r\n",
      "We recognize the land as an expression of gratitude and appreciation. It is important for each of us to understand the long-standing history that has brought us to reside on the land and to seek to understand our place within that history. This acknowledgment centers on the 1854 Treaty, in which the land that the University resides on was ceded to the US by the Anishinaabeg/Ojibwe/Chippewa but we also recognize that this land had a long and dynamic history prior to the treaty.\r\n",
      "\r\n",
      "In addition, when the Anishinaabeg ceded the land, they also kept some land for reservations as well as a number of specific rights to the ceded territory and maintain an ongoing relationship with those lands. Today the 1854 Treaty Authority manages the off-reservation hunting, fishing, and gathering rights of the Bois Forte Band and the Grand Portage Band of Lake Superior Chippewa in the lands ceded in the 1854 Treaty.\r\n",
      "\r\n",
      "The U.S. and American Indian nations continue to have a unique government-to-government political relationship. For example, Minnesota Executive Order 19-24 recognizes and supports “the unique status of the Minnesota Tribal Nations and their right to existence, self-govern, and possess self-determination.”\r\n",
      "\r\n",
      "There are many Indigenous peoples who reside on the lands of the 1854 Treaty today. Land acknowledgments do not exist in a past tense or historical context: colonialism is a current ongoing process, and we need to build the mindfulness of our present participation. It is also worth noting that acknowledging the land is rooted in Indigenous protocol practices.\r\n",
      "\r\n",
      "The University of Minnesota Duluth's Land Acknowledgment was crafted via collaborative process with our Department of American Indian Studies, the Campus Climate Leadership Team, Campus Climate Change Team, participants at the 2019 Summit on Equity, Race, & Ethnicity, and endorsed by the Minnesota Indian Affairs Council on June 4, 2019. The acknowledgment has been approved by Chancellor Black. Within the acknowledgment, “we” is defined as our institution of higher learning and those who participate in and contribute to the UMD campus climate including students, alumni, staff, faculty, and administration.\r\n",
      "\r\n",
      "History of the University of Minnesota\r\n",
      "The University of Minnesota traces its origins to 1851, seven years before Minnesota became a state on May 11, 1858. Nearly 170 years later the U of M has grown to become one of the preeminent public research universities in the nation.\r\n",
      "\r\n",
      "1851-1900: The Early Years\r\n",
      "\r\n",
      "In 1851, Minnesota Territorial Legislature and Gov. Alexander Ramsey charter the University of Minnesota and elect a board of regents, seven years before Minnesota becomes a state. In 1858, Old Main, the U of M's first permanent building, is erected on the Historic Knoll Area of campus. In 1861, The University temporarily closed during the Civil War. On 7/2/1862, Morrill Land-Grant Colleges Act signed, establishing federal land-grant resources for schools that teach and research agriculture and mechanic arts. In 1868, Regent John Sargent Pillsbury reopens Old Main and the U of M resumes operations. In May 1873, Warren Clark Eustis and Henry Martyn Williamson become the first graduates. In May of 1875, Helen Marr Ely becomes the first female graduate. In Sep 1877, Maria Sanford got hired as the first woman professor. On April 1st, 1880, the first master's degree was awarded. In 1881, sale of agricultural land in Minneapolis and acquisition of land in St. Paul took place for the U's experimental farm. On Mar, 2, 1887, Hatch Act launched nation's agricultural experiment stations, supporting research as a primary mission of U's College of Agriculture. In 1888, the first PhD degree is awarded, one of the first in the nation. On the 2nd of Nov 1898, cheerleading originated nationwide at the University of Minnesota when John E. Campbell organized unified cheers in a football game against Northwestern. The Gophers won, and a cherished tradition was born. \r\n",
      "On 05. 01.1900, the Minnesota Daily began publication. \r\n",
      "In the earlier half of the 1900's, tuition was $10 per semester. Here's a summary of development from 1901 to 1960: \r\n",
      "The Campus started to take shape. On the 30th of January, 1904, the Alumni Association was founded. On the 24th of Sep 1904, a fire destroyed Old Main. The School of Forestry established field station at Itasca State Park in 1907. In 1908, the Program of Mortuary Science at the U of M became the first program of its kind to be organized at a state university in the U.S. In Sep 1909, The U of M's School of Nursing began. It was the first continuing nursing school on a university campus in the United States. (Men weren't admitted to the program until September 1949). In 1909, The U of M Rouser debuted. Judges selected Floyd Hutsell's song after a statewide contest for a spirited song to represent the U of M at sporting events on Feb 14. Most of the verses were forgotten, but the catchy refrain lived on, 110 years later. \r\n",
      "\n"
     ]
    }
   ],
   "source": [
    "print(doc)"
   ]
  },
  {
   "cell_type": "markdown",
   "id": "055e898b",
   "metadata": {},
   "source": [
    "Define your regular expression in the string variable `pattern`.  **This is the only part of the notebook that you need to edit.**  There is an initial definition for `pattern` that simply looks for three groups of one or more numeric characters with any single character occuring between them.\n",
    "\n",
    "Note that we will compile the regular expression using the `VERBOSE` flag, which allows you to leverage multi-line strings, whitespace, and comments within a regex definition.  See the instruction sheet for further details."
   ]
  },
  {
   "cell_type": "code",
   "execution_count": 6,
   "id": "63539b9a",
   "metadata": {},
   "outputs": [
    {
     "data": {
      "text/plain": [
       "535"
      ]
     },
     "execution_count": 6,
     "metadata": {},
     "output_type": "execute_result"
    }
   ],
   "source": [
    "pattern = r\"\"\"\n",
    "\\b\\d{2,4}'s\\b\n",
    "|\n",
    "\\b\\d{4}\\s*-\\s*\\d{4}\\b\n",
    "|\n",
    "\\b\\d{1,2}[^1-9]{2}-century\\b\n",
    "|\n",
    "\\b(?:\\d{1,2}[^0-9]|Jan(?:uary)?|Feb(?:ruary)?|Mar(?:ch)?|Apr(?:il)?|May|Jun(?:e)?|Jul(?:y)?|Aug(?:ust)?|Sep(?:tember)?|Oct(?:ober)?|Nov(?:ember)?|Dec(?:ember)?)(?:(?!until|in|to|the|Until|In|To|The).){1,18}\\d{4}\\b\n",
    "|\n",
    "\\b(?:Jan(?:uary)?|Feb(?:ruary)?|Mar(?:ch)?|Apr(?:il)?|May|Jun(?:e)?|Jul(?:y)?|Aug(?:ust)?|Sep(?:tember)?|Oct(?:ober)?|Nov(?:ember)?|Dec(?:ember)?)[^a-zA-Z0-9]{1,2}\\d{1,4}\\b\n",
    "|\n",
    "\\b\\d{1,4}[^a-zA-Z0-9]{1,2}\\d{1,2}[^a-zA-Z0-9]{1,2}\\d{1,4}\\b\n",
    "|\n",
    "\\b\\d{4}\\b\n",
    "\"\"\"\n",
    "len(pattern)"
   ]
  },
  {
   "cell_type": "code",
   "execution_count": 7,
   "id": "b436a6bb",
   "metadata": {},
   "outputs": [],
   "source": [
    "regex = re.compile(pattern, re.VERBOSE)\n",
    "\n",
    "## Uncomment the line below if you do not want to use the VERBOSE mode.\n",
    "#regex = re.compile(pattern)"
   ]
  },
  {
   "cell_type": "markdown",
   "id": "45811d37",
   "metadata": {},
   "source": [
    "Next, we search the string `doc` for strings that match your regular expression and store any matches in the list `dates`. We then evaluate the results using the **precision**, **recall** and **F1** metrics.   Recall rewards correct guesses,\n",
    "  precision penalizes incorrect guesses, and the f-score\n",
    "  is a combination of precision and recall (technically, it is the harmonic mean of precision and recall)."
   ]
  },
  {
   "cell_type": "code",
   "execution_count": 8,
   "id": "4369774e",
   "metadata": {},
   "outputs": [],
   "source": [
    "dates = re.findall(regex, doc)"
   ]
  },
  {
   "cell_type": "code",
   "execution_count": 9,
   "id": "f0f7fef0",
   "metadata": {},
   "outputs": [
    {
     "name": "stdout",
     "output_type": "stream",
     "text": [
      "Precision: 1.000000\tRecall: 1.000000\tF1: 1.000000\n",
      "None\n"
     ]
    }
   ],
   "source": [
    "# Evaluate your regex using the evaluate function.\n",
    "print(analyze(dates, gold_dates))"
   ]
  },
  {
   "cell_type": "markdown",
   "id": "4b50e159",
   "metadata": {},
   "source": [
    "Our initial regular expression only matches 5\\% of the dates in the development text but 67\\% of\n",
    "the strings it returned were actual date expressions.  Not bad for\n",
    "such a simple regular expression. **But you can do better!**\n",
    "\n",
    "Note that if your pattern does not match any strings, the evaluation code will throw an error due\n",
    "to a division by zero. This means that the list `dates` is empty.\n",
    "    \n",
    "\n",
    "### Error analysis\n",
    "\n",
    "As you develop your regular expression it may be useful to conduct some error analysis.  The code cells below provide some simple first steps, but feel free to explore the development data as you see fit.\n",
    "\n",
    "Have you looked at the content of `dates`?  These are the strings your regular expression is matching.  Inspecting the contents of this list is a good first step to improving the performance of your regular expression."
   ]
  },
  {
   "cell_type": "code",
   "execution_count": 10,
   "id": "2a16e081",
   "metadata": {},
   "outputs": [
    {
     "name": "stdout",
     "output_type": "stream",
     "text": [
      "[\"1800's\",\n",
      " \"1900's\",\n",
      " '1854',\n",
      " '1854',\n",
      " '1854',\n",
      " '1854',\n",
      " '1854',\n",
      " '2019',\n",
      " 'June 4, 2019',\n",
      " '1851',\n",
      " 'May 11, 1858',\n",
      " '1851-1900',\n",
      " '1851',\n",
      " '1858',\n",
      " '1861',\n",
      " '7/2/1862',\n",
      " '1868',\n",
      " 'May 1873',\n",
      " 'May of 1875',\n",
      " 'Sep 1877',\n",
      " 'April 1st, 1880',\n",
      " '1881',\n",
      " 'Mar, 2, 1887',\n",
      " '1888',\n",
      " '2nd of Nov 1898',\n",
      " '05. 01.1900',\n",
      " \"1900's\",\n",
      " '1901',\n",
      " '1960',\n",
      " '30th of January, 1904',\n",
      " '24th of Sep 1904',\n",
      " '1907',\n",
      " '1908',\n",
      " 'Sep 1909',\n",
      " 'September 1949',\n",
      " '1909',\n",
      " 'Feb 14']\n"
     ]
    }
   ],
   "source": [
    "pprint(dates)"
   ]
  },
  {
   "cell_type": "markdown",
   "id": "8be1fb57",
   "metadata": {},
   "source": [
    "You can zero in on the errors your regular expression is making by inspecting the **false positives**, that is, the matches that do not occur in the gold standard list `gold_dates`.  Minimizing false positives will improve your **precision** score."
   ]
  },
  {
   "cell_type": "code",
   "execution_count": 11,
   "id": "5a08f121",
   "metadata": {},
   "outputs": [
    {
     "name": "stdout",
     "output_type": "stream",
     "text": [
      "[]\n"
     ]
    }
   ],
   "source": [
    "false_positives = [d for d in dates if d not in gold_dates]\n",
    "pprint(false_positives)"
   ]
  },
  {
   "cell_type": "markdown",
   "id": "57eaaf42",
   "metadata": {},
   "source": [
    "What dates in the `gold_dates` is your regular expression missing; that is, what are the **false negatives**?  Minimizing false negatives will improve your **recall**."
   ]
  },
  {
   "cell_type": "code",
   "execution_count": 12,
   "id": "02a4674d",
   "metadata": {},
   "outputs": [
    {
     "name": "stdout",
     "output_type": "stream",
     "text": [
      "[]\n"
     ]
    }
   ],
   "source": [
    "false_negatives = [d for d in gold_dates if d not in dates]\n",
    "pprint(false_negatives)"
   ]
  },
  {
   "cell_type": "markdown",
   "id": "077b9fc5",
   "metadata": {},
   "source": [
    "Finally, feel free to use the empty code cell below to perform your own error analyses."
   ]
  },
  {
   "cell_type": "code",
   "execution_count": null,
   "id": "cb54bfa3",
   "metadata": {},
   "outputs": [],
   "source": []
  },
  {
   "cell_type": "markdown",
   "id": "dc1f29eb",
   "metadata": {},
   "source": [
    "### Evaluation\n",
    "\n",
    "**Your grade will be based on your F1 score!**  However, we\n",
    "  will not evaluate your regular expression only against the development\n",
    "  text, but also against a new, unseen **test text**.  The test text will\n",
    "  contain the same date *formats* as found in the\n",
    "  development text, so if your regular expression is general enough,\n",
    "  your score on the test text should be similar to your score on the\n",
    "  development text. The formula for your score will be:\n",
    "  \n",
    "  $\\mathrm{Score} = (F1_{\\mathit{dev}} \\times 0.75) + (F1_{\\mathit{test}} \\times 0.25)$\n",
    "\n",
    "When you are satisfied with the performance of your regular\n",
    "  expression submit  this notebook, `DateFinder.ipynb`,  via Canvas.  Submissions are\n",
    "  due by **11:59pm on Tuesday, February 14**."
   ]
  },
  {
   "cell_type": "code",
   "execution_count": 13,
   "id": "115149d2",
   "metadata": {},
   "outputs": [
    {
     "name": "stdout",
     "output_type": "stream",
     "text": [
      "Precision: 0.968750\tRecall: 0.837838\tF1: 0.898551\n",
      "None\n",
      "False Positives\n",
      "\n",
      "['December 7']\n",
      "False Negatives\n",
      "\n",
      "['1940s', '1940s', 'December 7, 41', '1950s', 'June', '1960s']\n"
     ]
    }
   ],
   "source": [
    "gold_dates = [date.strip() for date in open(\"TestList.txt\", \"r\", encoding='utf-8').readlines() if date.strip()]\n",
    "doc = codecs.open(\"TestText.txt\", encoding='utf-8').read()\n",
    "dates = re.findall(regex, doc)\n",
    "print(analyze(dates, gold_dates))\n",
    "false_positives = [d for d in dates if d not in gold_dates]\n",
    "print(\"False Positives\\n\")\n",
    "pprint(false_positives)\n",
    "false_negatives = [d for d in gold_dates if d not in dates]\n",
    "print(\"False Negatives\\n\")\n",
    "pprint(false_negatives)"
   ]
  },
  {
   "cell_type": "code",
   "execution_count": null,
   "id": "bf5a1f7c",
   "metadata": {},
   "outputs": [],
   "source": []
  }
 ],
 "metadata": {
  "kernelspec": {
   "display_name": "Python 3 (ipykernel)",
   "language": "python",
   "name": "python3"
  },
  "language_info": {
   "codemirror_mode": {
    "name": "ipython",
    "version": 3
   },
   "file_extension": ".py",
   "mimetype": "text/x-python",
   "name": "python",
   "nbconvert_exporter": "python",
   "pygments_lexer": "ipython3",
   "version": "3.9.13"
  }
 },
 "nbformat": 4,
 "nbformat_minor": 5
}
