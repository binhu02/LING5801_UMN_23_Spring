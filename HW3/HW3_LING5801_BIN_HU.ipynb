{
 "cells": [
  {
   "cell_type": "code",
   "execution_count": 1,
   "metadata": {
    "ExecuteTime": {
     "end_time": "2023-03-24T02:04:11.884818Z",
     "start_time": "2023-03-24T02:04:11.877817Z"
    }
   },
   "outputs": [],
   "source": [
    "# Bin Hu's submissiom of HW3 LING5801 2023 Spring, University of Minnesota"
   ]
  },
  {
   "cell_type": "code",
   "execution_count": 2,
   "metadata": {
    "ExecuteTime": {
     "end_time": "2023-03-24T02:04:13.035169Z",
     "start_time": "2023-03-24T02:04:11.885819Z"
    }
   },
   "outputs": [
    {
     "name": "stderr",
     "output_type": "stream",
     "text": [
      "C:\\Users\\Liufenii\\anaconda3\\lib\\site-packages\\numpy\\_distributor_init.py:30: UserWarning: loaded more than 1 DLL from .libs:\n",
      "C:\\Users\\Liufenii\\anaconda3\\lib\\site-packages\\numpy\\.libs\\libopenblas.XWYDX2IKJW2NMTWSFYNGFUWKQU3LYTCZ.gfortran-win_amd64.dll\n",
      "C:\\Users\\Liufenii\\anaconda3\\lib\\site-packages\\numpy\\.libs\\libopenblas64__v0.3.21-gcc_10_3_0.dll\n",
      "  warnings.warn(\"loaded more than 1 DLL from .libs:\"\n"
     ]
    }
   ],
   "source": [
    "import nltk\n",
    "from nltk.corpus import brown\n",
    "from pprint import pprint\n",
    "\n",
    "# String-formatting function:\n",
    "def pairs2str(sent):\n",
    "    strings = []\n",
    "    for (word, tag) in sent:\n",
    "        if tag == None:\n",
    "            strings.append(word + \"/\" + \"UNK\")\n",
    "        else:\n",
    "            strings.append(word + \"/\" + tag)\n",
    "    return \" \".join(strings)"
   ]
  },
  {
   "cell_type": "markdown",
   "metadata": {},
   "source": [
    "# NLTK's tagged corpora\n",
    "\n",
    "Many of the corpora included with the NLTK library can be accessed with part of speech information for word tokens.  For example, the methods below (note that I have imported the `brown` corpus from NLTK's `corpus` module) access the Brown corpus as a list of words and a list of sentences, respectively.  A sentence is represented as a list of individual tokens.  Each token is represented as a **tuple** consisting of the **word form** and its **part of speech label**.  \n",
    "\n",
    "- `brown.tagged_words()`\n",
    "- `brown.tagged_sents()`\n",
    "\n",
    "The code block below saves the part of speech tagged words of the Brown corpus to the list `words` and prints the first five tokens. The pair `('The', 'AT')`, for example, indicates that first instance of the word `'The'` is assigned the part of speech label `AT`.  "
   ]
  },
  {
   "cell_type": "code",
   "execution_count": 3,
   "metadata": {
    "ExecuteTime": {
     "end_time": "2023-03-24T02:04:13.419226Z",
     "start_time": "2023-03-24T02:04:13.036169Z"
    }
   },
   "outputs": [
    {
     "name": "stdout",
     "output_type": "stream",
     "text": [
      "[('The', 'AT'),\n",
      " ('Fulton', 'NP-TL'),\n",
      " ('County', 'NN-TL'),\n",
      " ('Grand', 'JJ-TL'),\n",
      " ('Jury', 'NN-TL')]\n"
     ]
    },
    {
     "name": "stderr",
     "output_type": "stream",
     "text": [
      "[nltk_data] Downloading package brown to\n",
      "[nltk_data]     C:\\Users\\Liufenii\\AppData\\Roaming\\nltk_data...\n",
      "[nltk_data]   Package brown is already up-to-date!\n"
     ]
    }
   ],
   "source": [
    "nltk.download('brown')\n",
    "\n",
    "words = brown.tagged_words()\n",
    "pprint(words[:5])"
   ]
  },
  {
   "cell_type": "markdown",
   "metadata": {},
   "source": [
    "The next code block saves each sentence of the Brown corpus to the list `sents` and prints the first item in the list, itself a list of word-POS tuples.  "
   ]
  },
  {
   "cell_type": "code",
   "execution_count": 4,
   "metadata": {
    "ExecuteTime": {
     "end_time": "2023-03-24T02:04:13.547254Z",
     "start_time": "2023-03-24T02:04:13.420227Z"
    }
   },
   "outputs": [
    {
     "name": "stdout",
     "output_type": "stream",
     "text": [
      "[('The', 'AT'),\n",
      " ('Fulton', 'NP-TL'),\n",
      " ('County', 'NN-TL'),\n",
      " ('Grand', 'JJ-TL'),\n",
      " ('Jury', 'NN-TL'),\n",
      " ('said', 'VBD'),\n",
      " ('Friday', 'NR'),\n",
      " ('an', 'AT'),\n",
      " ('investigation', 'NN'),\n",
      " ('of', 'IN'),\n",
      " (\"Atlanta's\", 'NP$'),\n",
      " ('recent', 'JJ'),\n",
      " ('primary', 'NN'),\n",
      " ('election', 'NN'),\n",
      " ('produced', 'VBD'),\n",
      " ('``', '``'),\n",
      " ('no', 'AT'),\n",
      " ('evidence', 'NN'),\n",
      " (\"''\", \"''\"),\n",
      " ('that', 'CS'),\n",
      " ('any', 'DTI'),\n",
      " ('irregularities', 'NNS'),\n",
      " ('took', 'VBD'),\n",
      " ('place', 'NN'),\n",
      " ('.', '.')]\n"
     ]
    }
   ],
   "source": [
    "sents = brown.tagged_sents()\n",
    "pprint(sents[0])"
   ]
  },
  {
   "cell_type": "markdown",
   "metadata": {},
   "source": [
    "It is common to represent a POS tagged word as a string `word/POS` and to represent a sentence as a sequence of such strings.  The function `pairs2str`, defined above, takes a list of word-POS tuples and prints them as a string in this format."
   ]
  },
  {
   "cell_type": "code",
   "execution_count": 5,
   "metadata": {
    "ExecuteTime": {
     "end_time": "2023-03-24T02:04:13.563258Z",
     "start_time": "2023-03-24T02:04:13.548255Z"
    }
   },
   "outputs": [
    {
     "name": "stdout",
     "output_type": "stream",
     "text": [
      "It/PPS recommended/VBD that/CS Fulton/NP legislators/NNS act/VB ``/`` to/TO have/HV these/DTS laws/NNS studied/VBN and/CC revised/VBN to/IN the/AT end/NN of/IN modernizing/VBG and/CC improving/VBG them/PPO ''/'' ./.\n"
     ]
    }
   ],
   "source": [
    "print(pairs2str(sents[5]))"
   ]
  },
  {
   "cell_type": "markdown",
   "metadata": {},
   "source": [
    "# Help\n",
    "\n",
    "NLTK provides a convenient `help` function with information on the two most commonly used tagsets, the Brown tagset and UPenn treebank tagset.  Note that if you do not provide an argument to the method, it returns a full list of corresponding tagset.  Note that the argument to the method is not just a string, but rather a **regular expression**"
   ]
  },
  {
   "cell_type": "code",
   "execution_count": 6,
   "metadata": {
    "ExecuteTime": {
     "end_time": "2023-03-24T02:04:13.579262Z",
     "start_time": "2023-03-24T02:04:13.564259Z"
    }
   },
   "outputs": [
    {
     "name": "stdout",
     "output_type": "stream",
     "text": [
      "JJ: adjective\n",
      "    ecent over-all possible hard-fought favorable hard meager fit such\n",
      "    widespread outmoded inadequate ambiguous grand clerical effective\n",
      "    orderly federal foster general proportionate ...\n"
     ]
    },
    {
     "name": "stderr",
     "output_type": "stream",
     "text": [
      "[nltk_data] Downloading package tagsets to\n",
      "[nltk_data]     C:\\Users\\Liufenii\\AppData\\Roaming\\nltk_data...\n",
      "[nltk_data]   Package tagsets is already up-to-date!\n"
     ]
    }
   ],
   "source": [
    "nltk.download('tagsets')\n",
    "\n",
    "nltk.help.brown_tagset('JJ')"
   ]
  },
  {
   "cell_type": "code",
   "execution_count": 7,
   "metadata": {
    "ExecuteTime": {
     "end_time": "2023-03-24T02:04:13.595265Z",
     "start_time": "2023-03-24T02:04:13.580262Z"
    },
    "scrolled": false
   },
   "outputs": [
    {
     "name": "stdout",
     "output_type": "stream",
     "text": [
      "$: dollar\n",
      "    $ -$ --$ A$ C$ HK$ M$ NZ$ S$ U.S.$ US$\n",
      "'': closing quotation mark\n",
      "    ' ''\n",
      "(: opening parenthesis\n",
      "    ( [ {\n",
      "): closing parenthesis\n",
      "    ) ] }\n",
      ",: comma\n",
      "    ,\n",
      "--: dash\n",
      "    --\n",
      ".: sentence terminator\n",
      "    . ! ?\n",
      ":: colon or ellipsis\n",
      "    : ; ...\n",
      "CC: conjunction, coordinating\n",
      "    & 'n and both but either et for less minus neither nor or plus so\n",
      "    therefore times v. versus vs. whether yet\n",
      "CD: numeral, cardinal\n",
      "    mid-1890 nine-thirty forty-two one-tenth ten million 0.5 one forty-\n",
      "    seven 1987 twenty '79 zero two 78-degrees eighty-four IX '60s .025\n",
      "    fifteen 271,124 dozen quintillion DM2,000 ...\n",
      "DT: determiner\n",
      "    all an another any both del each either every half la many much nary\n",
      "    neither no some such that the them these this those\n",
      "EX: existential there\n",
      "    there\n",
      "FW: foreign word\n",
      "    gemeinschaft hund ich jeux habeas Haementeria Herr K'ang-si vous\n",
      "    lutihaw alai je jour objets salutaris fille quibusdam pas trop Monte\n",
      "    terram fiche oui corporis ...\n",
      "IN: preposition or conjunction, subordinating\n",
      "    astride among uppon whether out inside pro despite on by throughout\n",
      "    below within for towards near behind atop around if like until below\n",
      "    next into if beside ...\n",
      "JJ: adjective or numeral, ordinal\n",
      "    third ill-mannered pre-war regrettable oiled calamitous first separable\n",
      "    ectoplasmic battery-powered participatory fourth still-to-be-named\n",
      "    multilingual multi-disciplinary ...\n",
      "JJR: adjective, comparative\n",
      "    bleaker braver breezier briefer brighter brisker broader bumper busier\n",
      "    calmer cheaper choosier cleaner clearer closer colder commoner costlier\n",
      "    cozier creamier crunchier cuter ...\n",
      "JJS: adjective, superlative\n",
      "    calmest cheapest choicest classiest cleanest clearest closest commonest\n",
      "    corniest costliest crassest creepiest crudest cutest darkest deadliest\n",
      "    dearest deepest densest dinkiest ...\n",
      "LS: list item marker\n",
      "    A A. B B. C C. D E F First G H I J K One SP-44001 SP-44002 SP-44005\n",
      "    SP-44007 Second Third Three Two * a b c d first five four one six three\n",
      "    two\n",
      "MD: modal auxiliary\n",
      "    can cannot could couldn't dare may might must need ought shall should\n",
      "    shouldn't will would\n",
      "NN: noun, common, singular or mass\n",
      "    common-carrier cabbage knuckle-duster Casino afghan shed thermostat\n",
      "    investment slide humour falloff slick wind hyena override subhumanity\n",
      "    machinist ...\n",
      "NNP: noun, proper, singular\n",
      "    Motown Venneboerger Czestochwa Ranzer Conchita Trumplane Christos\n",
      "    Oceanside Escobar Kreisler Sawyer Cougar Yvette Ervin ODI Darryl CTCA\n",
      "    Shannon A.K.C. Meltex Liverpool ...\n",
      "NNPS: noun, proper, plural\n",
      "    Americans Americas Amharas Amityvilles Amusements Anarcho-Syndicalists\n",
      "    Andalusians Andes Andruses Angels Animals Anthony Antilles Antiques\n",
      "    Apache Apaches Apocrypha ...\n",
      "NNS: noun, common, plural\n",
      "    undergraduates scotches bric-a-brac products bodyguards facets coasts\n",
      "    divestitures storehouses designs clubs fragrances averages\n",
      "    subjectivists apprehensions muses factory-jobs ...\n",
      "PDT: pre-determiner\n",
      "    all both half many quite such sure this\n",
      "POS: genitive marker\n",
      "    ' 's\n",
      "PRP: pronoun, personal\n",
      "    hers herself him himself hisself it itself me myself one oneself ours\n",
      "    ourselves ownself self she thee theirs them themselves they thou thy us\n",
      "PRP$: pronoun, possessive\n",
      "    her his mine my our ours their thy your\n",
      "RB: adverb\n",
      "    occasionally unabatingly maddeningly adventurously professedly\n",
      "    stirringly prominently technologically magisterially predominately\n",
      "    swiftly fiscally pitilessly ...\n",
      "RBR: adverb, comparative\n",
      "    further gloomier grander graver greater grimmer harder harsher\n",
      "    healthier heavier higher however larger later leaner lengthier less-\n",
      "    perfectly lesser lonelier longer louder lower more ...\n",
      "RBS: adverb, superlative\n",
      "    best biggest bluntest earliest farthest first furthest hardest\n",
      "    heartiest highest largest least less most nearest second tightest worst\n",
      "RP: particle\n",
      "    aboard about across along apart around aside at away back before behind\n",
      "    by crop down ever fast for forth from go high i.e. in into just later\n",
      "    low more off on open out over per pie raising start teeth that through\n",
      "    under unto up up-pp upon whole with you\n",
      "SYM: symbol\n",
      "    % & ' '' ''. ) ). * + ,. < = > @ A[fj] U.S U.S.S.R * ** ***\n",
      "TO: \"to\" as preposition or infinitive marker\n",
      "    to\n",
      "UH: interjection\n",
      "    Goodbye Goody Gosh Wow Jeepers Jee-sus Hubba Hey Kee-reist Oops amen\n",
      "    huh howdy uh dammit whammo shucks heck anyways whodunnit honey golly\n",
      "    man baby diddle hush sonuvabitch ...\n",
      "VB: verb, base form\n",
      "    ask assemble assess assign assume atone attention avoid bake balkanize\n",
      "    bank begin behold believe bend benefit bevel beware bless boil bomb\n",
      "    boost brace break bring broil brush build ...\n",
      "VBD: verb, past tense\n",
      "    dipped pleaded swiped regummed soaked tidied convened halted registered\n",
      "    cushioned exacted snubbed strode aimed adopted belied figgered\n",
      "    speculated wore appreciated contemplated ...\n",
      "VBG: verb, present participle or gerund\n",
      "    telegraphing stirring focusing angering judging stalling lactating\n",
      "    hankerin' alleging veering capping approaching traveling besieging\n",
      "    encrypting interrupting erasing wincing ...\n",
      "VBN: verb, past participle\n",
      "    multihulled dilapidated aerosolized chaired languished panelized used\n",
      "    experimented flourished imitated reunifed factored condensed sheared\n",
      "    unsettled primed dubbed desired ...\n",
      "VBP: verb, present tense, not 3rd person singular\n",
      "    predominate wrap resort sue twist spill cure lengthen brush terminate\n",
      "    appear tend stray glisten obtain comprise detest tease attract\n",
      "    emphasize mold postpone sever return wag ...\n",
      "VBZ: verb, present tense, 3rd person singular\n",
      "    bases reconstructs marks mixes displeases seals carps weaves snatches\n",
      "    slumps stretches authorizes smolders pictures emerges stockpiles\n",
      "    seduces fizzes uses bolsters slaps speaks pleads ...\n",
      "WDT: WH-determiner\n",
      "    that what whatever which whichever\n",
      "WP: WH-pronoun\n",
      "    that what whatever whatsoever which who whom whosoever\n",
      "WP$: WH-pronoun, possessive\n",
      "    whose\n",
      "WRB: Wh-adverb\n",
      "    how however whence whenever where whereby whereever wherein whereof why\n",
      "``: opening quotation mark\n",
      "    ` ``\n"
     ]
    }
   ],
   "source": [
    "nltk.help.upenn_tagset()"
   ]
  },
  {
   "cell_type": "markdown",
   "metadata": {},
   "source": [
    "# Assignment 3: Exploring tagged corpora\n",
    "\n",
    "**Instructions: Download this notebook and write code to answer the questions associated with the blank code blocks below.  Upload your modified notebook using the Canvas link by 11:59pm on Thursday, March 23.**\n",
    "\n",
    "How hard is automatic part of speech tagging?  A recurring theme of the course is that one of the main challenges of NLP is dealing effectively with the ambiguity inherent to natural languages.  This is true for part-of-speech tagging, as well.  Many word forms occur with more than one part of speech label in a given corpus. For example, the word \"bank\" can be either a noun or a verb.\n",
    "\n",
    "We can use a part of speech tagged corpora to get a sense of the extent of this ambiguity by answering a few questions; for example:\n",
    "\n",
    "1. How many word types are unambiguous in the sense that they occur with only one part of speech tag in the corpus?\n",
    "2. How many word types are ambiguous, that is, occur with two or more distinct part of speech tags in the corpus?\n",
    "3. How many of the individual tokens in the text are instances of (un)ambiguous word types?\n",
    "4. How ambiguous are ambiguous word types? That is, for each integer $n$, how many word types appear with $n$ distinct part of speech labels? What is the highest $n$?\n",
    "\n",
    "**Answering these questions will recreate the tables on slides 23 and 24 of the \"Parts of speech\" lecture slides.**  \n",
    "\n",
    "Before answering these questions, lets clean up the corpus by normalizing the text (we perform **case folding** here) and simplifying the tags a little.  "
   ]
  },
  {
   "cell_type": "code",
   "execution_count": 8,
   "metadata": {
    "ExecuteTime": {
     "end_time": "2023-03-24T02:04:15.609745Z",
     "start_time": "2023-03-24T02:04:13.597265Z"
    }
   },
   "outputs": [],
   "source": [
    "words = brown.tagged_words()\n",
    "words = [(word.lower(), tag.split('-')[0]) for word, tag in words]"
   ]
  },
  {
   "cell_type": "markdown",
   "metadata": {},
   "source": [
    "What kind of data structure would be useful in answering the questions above?  \n",
    "\n",
    "For each vocabulary item that occurs in the corpus, we need to know how many distinct part of speech labels it occurs with, so some sort of dictionary-like structure seems appropriate.  For example, we could build a dictionary that maps word forms to lists of the POS labels they occur with.  However, in order to answer the question about ambiguous *tokens*, we also need to know how often a word occurs with each of its associated part of speech labels.  Is there a single data structure we could use to answer all of the questions above?  \n",
    "\n",
    "Yes, a conditional frequency distribution in which the conditions are the word forms that occur in the corpus!  Recall that a CFD associates an ordinary frequency distribution with each condition.  For our purposes, the objects associated with a word form will be a frequency distribution over the part of speech labels that occur with that form.  If we feed NLTK's `.ConditionalFreqDist()` class a list of tuples, it will return a conditional frequency distribution where the first element of each tuple is the condition and the second element is the observation for that condition.  Thus the data structure we need is obtained with the following block of code."
   ]
  },
  {
   "cell_type": "code",
   "execution_count": 9,
   "metadata": {
    "ExecuteTime": {
     "end_time": "2023-03-24T02:04:16.520940Z",
     "start_time": "2023-03-24T02:04:15.610745Z"
    }
   },
   "outputs": [],
   "source": [
    "cfd = nltk.ConditionalFreqDist(words)"
   ]
  },
  {
   "cell_type": "markdown",
   "metadata": {},
   "source": [
    "The following features of the object `cfd` should be useful in answering the questions below:\n",
    "\n",
    " - For each word form `w`, `cfd[w]` returns a frequency distribution over POS labels.  Try typing `cfd['back']` in the code block below.  By inspecting the resulting object you can see that the word form `back` occurs with four distinct parts of speech in our corpus: adverb (`RB`), singular common noun (`NN`), adjective (`JJ`), and base verb (`VB`).\n",
    " - The number of \"bins\" associated with a frequency distribution tells us how many POS labels a word form occurs with. The `.B()` method returns the number of bins associated with a frequency distribution.  Type `cfd['back'].B()` into the work space below.\n",
    " - The `.N()` method returns the total number of observations for a given condition.  Type `cfd['back'].N()` into the work space below.  This tells us how many times `back` occurred in the corpus.\n",
    " - `len(cfd)` tells you how many conditions are associated with the conditional frequency distribution, i.e. the number of unique word form types there were in the corpus.  Try it out in the space below.\n",
    " - `cfd.N()` returns the total number of word tokens in the corpus.  Again, try it out.\n",
    " "
   ]
  },
  {
   "cell_type": "code",
   "execution_count": 10,
   "metadata": {
    "ExecuteTime": {
     "end_time": "2023-03-24T02:04:16.536955Z",
     "start_time": "2023-03-24T02:04:16.521942Z"
    }
   },
   "outputs": [],
   "source": [
    "# Workspace code block:\n"
   ]
  },
  {
   "cell_type": "markdown",
   "metadata": {},
   "source": [
    "This is all you need to answer the questions above.  Fill in the code blocks below with the necessary code to answer each question.\n",
    "\n",
    "## How many (un)ambiguous word types are there in the corpus?\n",
    "\n",
    "How many of the distinct **word types** in the corpus are associated with a single part-of-speech label?  How many of them are associated with two or more part-of-speech labels?"
   ]
  },
  {
   "cell_type": "code",
   "execution_count": 11,
   "metadata": {
    "ExecuteTime": {
     "end_time": "2023-03-24T02:04:16.552959Z",
     "start_time": "2023-03-24T02:04:16.537955Z"
    }
   },
   "outputs": [
    {
     "name": "stdout",
     "output_type": "stream",
     "text": [
      "The number of unambiguous word types is 44196\n",
      "The number of ambiguous word types is 5619\n"
     ]
    }
   ],
   "source": [
    "# Write your code here\n",
    "ambiguous_word_types = set(type_ for type_ in cfd.keys() if len(cfd[type_])>1)\n",
    "print(f\"The number of unambiguous word types is {len(cfd)-len(ambiguous_word_types)}\")\n",
    "print(f\"The number of ambiguous word types is {len(ambiguous_word_types)}\")"
   ]
  },
  {
   "cell_type": "markdown",
   "metadata": {},
   "source": [
    "## How many of the word *tokens* in the corpus are instances of ambiguous word types?"
   ]
  },
  {
   "cell_type": "code",
   "execution_count": 12,
   "metadata": {
    "ExecuteTime": {
     "end_time": "2023-03-24T02:04:16.712994Z",
     "start_time": "2023-03-24T02:04:16.552959Z"
    }
   },
   "outputs": [
    {
     "data": {
      "text/plain": [
       "719031"
      ]
     },
     "execution_count": 12,
     "metadata": {},
     "output_type": "execute_result"
    }
   ],
   "source": [
    "# Write your code here\n",
    "tokens_of_ambiguous_word_types = [word[0] for word in words if word[0] in ambiguous_word_types]\n",
    "len(tokens_of_ambiguous_word_types)"
   ]
  },
  {
   "cell_type": "markdown",
   "metadata": {},
   "source": [
    "## How frequently do we see a word form with 1, 2, 3, ..., part of speech labels?\n",
    "Hint: You may want to build a frequency distribution over integers $n$, where we are counting words that appear with $n$ distinct part of speech labels.  For example, `fd[3]` would return the number of word forms that appear with 3 distinct POS labels.  I have initiated a `FreqDist` object for you in the block below.  To increment the count for a given observation `obs`, use `fd[obs] += 1`.  **Hint**: two lines of code suffices to define `fd`.\n",
    "\n",
    "Use the `.tabulate()` method of frequency distributions to display the results."
   ]
  },
  {
   "cell_type": "code",
   "execution_count": 13,
   "metadata": {
    "ExecuteTime": {
     "end_time": "2023-03-24T02:04:16.745002Z",
     "start_time": "2023-03-24T02:04:16.713994Z"
    }
   },
   "outputs": [
    {
     "name": "stdout",
     "output_type": "stream",
     "text": [
      "    1     2     3     4     5     6     7 \n",
      "44196  5066   434    90    23     4     2 \n"
     ]
    }
   ],
   "source": [
    "# Write your code here\n",
    "fd=nltk.FreqDist(len(value) for value in cfd.values())\n",
    "fd.tabulate()"
   ]
  }
 ],
 "metadata": {
  "kernelspec": {
   "display_name": "Python 3",
   "language": "python",
   "name": "python3"
  },
  "language_info": {
   "codemirror_mode": {
    "name": "ipython",
    "version": 3
   },
   "file_extension": ".py",
   "mimetype": "text/x-python",
   "name": "python",
   "nbconvert_exporter": "python",
   "pygments_lexer": "ipython3",
   "version": "3.8.8"
  }
 },
 "nbformat": 4,
 "nbformat_minor": 2
}
